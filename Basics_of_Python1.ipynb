{
  "nbformat": 4,
  "nbformat_minor": 0,
  "metadata": {
    "colab": {
      "provenance": []
    },
    "kernelspec": {
      "name": "python3",
      "display_name": "Python 3"
    },
    "language_info": {
      "name": "python"
    }
  },
  "cells": [
    {
      "cell_type": "markdown",
      "source": [
        "1. What is Python and why is it popular?\n",
        "\n",
        "Ans Python is a programming language which helps in creating intructions for computer or system. It is popular because it has lot of libraries(piece of code which can be reuse) like panda."
      ],
      "metadata": {
        "id": "BPWuwxQVAse1"
      }
    },
    {
      "cell_type": "markdown",
      "source": [
        "2. What is an interpreter in Python?\n",
        "\n",
        "Ans An interpreter reads and executes python code line. it converts code into machine-understandable instructions at runtime.\n",
        "\n"
      ],
      "metadata": {
        "id": "3r9-18AJFMvu"
      }
    },
    {
      "cell_type": "markdown",
      "source": [
        "3. what are pre-defined keywords in python?\n",
        "\n",
        "Ans keywords are reserved words which can not be used as variable names. for example; for, while, if, true, false etc."
      ],
      "metadata": {
        "id": "30kQyDBHFs0p"
      }
    },
    {
      "cell_type": "markdown",
      "source": [
        "4. can keywords be used as variable names?\n",
        "\n",
        "Ans No, python will show syntax error if we use keywords as variable names."
      ],
      "metadata": {
        "id": "9FHmvTjvGaWl"
      }
    },
    {
      "cell_type": "markdown",
      "source": [
        "5. What is Mutuability in Python?\n",
        "\n",
        "Ans Mutability refers to change the object's state after it is created.\n",
        "for example; lists, dictionaries, sets."
      ],
      "metadata": {
        "id": "QjeOQyF8G12l"
      }
    },
    {
      "cell_type": "markdown",
      "source": [
        "6. Why are lists mutable, but tuples are immutable?\n",
        "\n",
        "Ans\n",
        "\n",
        "* Lists are designed to be flexible that can be edit,add, remove or modify.\n",
        "* Tuples are meant to be fixed and can be used as keys in dictionaries.\n",
        "\n",
        "\n",
        "\n",
        "\n",
        "\n",
        "\n",
        "\n"
      ],
      "metadata": {
        "id": "rjPFgWrAHxrq"
      }
    },
    {
      "cell_type": "markdown",
      "source": [
        "7. What is the difference between *==* and *is* operators in Python?\n",
        "\n",
        "Ans == checks value equality ( are values same or not).\n",
        "    is checks identity (are both variables pointing to the same object in memory)"
      ],
      "metadata": {
        "id": "kCpxIH4XJDWj"
      }
    },
    {
      "cell_type": "markdown",
      "source": [
        "8. What are logical operators in python?\n",
        "\n",
        "Ans These are  used for logical operations.\n",
        "*   Logical AND- Tue if both conditions are true.\n",
        "*   Logical OR- True if atleast one condition is true.\n",
        "*   Logical NOT- Inverts the conditon.\n",
        "\n",
        "\n",
        "\n",
        "\n"
      ],
      "metadata": {
        "id": "ZwJeJBRlK2BP"
      }
    },
    {
      "cell_type": "markdown",
      "source": [
        "9. What is type casting in Python?\n",
        "\n",
        "Ans Type casting refers to converting one datatype into another. for example-\n",
        "int(\"10\") = 10"
      ],
      "metadata": {
        "id": "WJlvSS4pYTF2"
      }
    },
    {
      "cell_type": "markdown",
      "source": [
        "10. What is the difference between implicit and explicit type casting?\n",
        "\n",
        "Ans Implicit- type casting automatically done by Python.\n",
        "\n",
        " Explicit- type casting done by manually using functions."
      ],
      "metadata": {
        "id": "jBACKcJGaE2i"
      }
    },
    {
      "cell_type": "markdown",
      "source": [
        "11. What is the purpose of conditional statements in python?\n",
        "\n",
        "Ans Conditional statements helps in decision making in coding. Python can execute the code on certain conditions by using if,else,elif and nested elif.\n"
      ],
      "metadata": {
        "id": "y1W5C3Ara4I5"
      }
    },
    {
      "cell_type": "markdown",
      "source": [
        "12. How does the elif Statemnet work?\n",
        "\n",
        "Ans elif stands for else-if. it allows the user to check the multiple conditions after initial if. Python evaluates conditions from top to bottom nd executes the first true block."
      ],
      "metadata": {
        "id": "fms6-gqkb0uj"
      }
    },
    {
      "cell_type": "markdown",
      "source": [
        "13. What is the difference between for and while loops?\n",
        "\n",
        "Ans\n",
        "\n",
        "*   for Loop- It is used when the numbers of iterations is known.\n",
        "*   while Loop- It is used when the numbers of iterations is not known.\n",
        "\n"
      ],
      "metadata": {
        "id": "u1Xhq_Xkcow6"
      }
    },
    {
      "cell_type": "markdown",
      "source": [
        "14. Describe a scenario where a while loop is more suitable than a for loop?\n",
        "\n",
        "Ans Waiting for user input to be valid. We don't know how many attempts user will take.\n",
        "   while user_input !=\"yes\":\n",
        "        user_input = input(Please type 'yes': \")"
      ],
      "metadata": {
        "id": "ZNUIVAH6enkk"
      }
    },
    {
      "cell_type": "markdown",
      "source": [
        "\n",
        "**PRACTICAL QUESTIONS-**"
      ],
      "metadata": {
        "id": "O7OX4zTLgFMr"
      }
    },
    {
      "cell_type": "markdown",
      "source": [
        "1. Print \"Hello World!\""
      ],
      "metadata": {
        "id": "DxPkg3LbgUNQ"
      }
    },
    {
      "cell_type": "code",
      "source": [
        "print(\"Hello World!\")"
      ],
      "metadata": {
        "id": "TEKHlfdWgc9F"
      },
      "execution_count": null,
      "outputs": []
    },
    {
      "cell_type": "markdown",
      "source": [
        "2.  Display your name and age."
      ],
      "metadata": {
        "id": "3DQSwxTpoVnj"
      }
    },
    {
      "cell_type": "code",
      "source": [
        "name = \"Chhavi\"\n",
        "age = 19\n",
        "print(\"Name:\", name)\n",
        "print(\"Age:\", age)"
      ],
      "metadata": {
        "id": "FVOKKrNOoVNS"
      },
      "execution_count": null,
      "outputs": []
    },
    {
      "cell_type": "markdown",
      "source": [
        "3. Print all python keywords in python using the keyword library."
      ],
      "metadata": {
        "id": "sHCU8REqp6EP"
      }
    },
    {
      "cell_type": "code",
      "source": [
        "import keyword\n",
        "keyword.kwlist"
      ],
      "metadata": {
        "id": "qPMefiMs3bax"
      },
      "execution_count": null,
      "outputs": []
    },
    {
      "cell_type": "markdown",
      "source": [
        "4. Check if a given word is a python keyword."
      ],
      "metadata": {
        "id": "Tw58ia6MsC47"
      }
    },
    {
      "cell_type": "code",
      "source": [
        "import keyword\n",
        "s = str(input(\"enter a keyword:\"))\n",
        "if keyword.iskeyword(s):\n",
        "  print(\"yes\")\n",
        "else:\n",
        "  print(\"no\")\n"
      ],
      "metadata": {
        "id": "q9xNo7BA3s4C"
      },
      "execution_count": null,
      "outputs": []
    },
    {
      "cell_type": "markdown",
      "source": [
        "5. Create a list and tuple in python, and demonstrate how attempting to change an element works differently for each."
      ],
      "metadata": {
        "id": "Sg_TlHWQ36rA"
      }
    },
    {
      "cell_type": "code",
      "source": [
        "#List\n",
        "my_list = [1, 2, 3]\n",
        "my_list.append(4)\n",
        "print(\"list:\", my_list)\n",
        "\n",
        "#Tuple\n",
        "my_tuple = (1, 2, 3)\n",
        "#my_tuple.append(4) #if we try to change in tuple then it will show error.\n",
        "print(\"my_tuple\")\n",
        "#if my_tuple == \"error\":\n",
        "  #print(\"error\")"
      ],
      "metadata": {
        "colab": {
          "base_uri": "https://localhost:8080/"
        },
        "id": "vFL5c2TJ4bgd",
        "outputId": "1dc74b9e-35e2-4bca-9388-628ec94f6308"
      },
      "execution_count": 2,
      "outputs": [
        {
          "output_type": "stream",
          "name": "stdout",
          "text": [
            "list: [1, 2, 3, 4]\n"
          ]
        }
      ]
    },
    {
      "cell_type": "markdown",
      "source": [
        "6. Write a function to demonstrate the behaviour of mutable and immutable arguments."
      ],
      "metadata": {
        "id": "DZxRQ_f36txt"
      }
    },
    {
      "cell_type": "code",
      "source": [
        "\n",
        "#mutable arguments\n",
        "lst = [1, 2, 3]\n",
        "lst.append(4)\n",
        "print(\"lst:\")\n",
        "\n",
        "#Tuple\n",
        "my_tuple = (1, 2, 3)\n",
        "#my_tuple.append(4) #if we try to change in tuple then it will show error\n",
        "print(\"my_tuple\")\n",
        "\n",
        "\n",
        "\n"
      ],
      "metadata": {
        "id": "0ui3VtoQ6h9e"
      },
      "execution_count": null,
      "outputs": []
    },
    {
      "cell_type": "markdown",
      "source": [
        "7. Write a program that performs basic arithmetic operations on two user-input numbers."
      ],
      "metadata": {
        "id": "itSm7tx2-bbf"
      }
    },
    {
      "cell_type": "code",
      "source": [
        "num1 = float(input(\"enter first number\"))\n",
        "num2 = float(input(\"enter second number\"))\n",
        "print(\"addition\",num1+num2)\n",
        "print(\"subtraction\",num1-num2)\n",
        "print(\"multiplication\",num1*num2)\n",
        "print(\"division\",num1/num2)"
      ],
      "metadata": {
        "id": "DyY4bBMWvYqa"
      },
      "execution_count": null,
      "outputs": []
    },
    {
      "cell_type": "code",
      "source": [
        "#8.Write a program to demonstrate the use of logical operators.\n",
        "\n",
        "x = True\n",
        "y = False\n",
        "print(\"logical And\",x and y)\n",
        "print(\"logical OR\", x or y)\n",
        "print(\"logical not\",  not x)\n",
        "print(\"logical not\", not y)\n",
        "\n"
      ],
      "metadata": {
        "id": "paHPOCg0whXx"
      },
      "execution_count": null,
      "outputs": []
    },
    {
      "cell_type": "code",
      "source": [
        "#9. Write a Python program to convert user input from string to integer, float, and boolean types.\n",
        "\n",
        "n = str(input(\"enter a number\"))\n",
        "print(int(n))\n",
        "print(float(n))\n",
        "print(bool(n))\n"
      ],
      "metadata": {
        "id": "piO7igwAx_qV"
      },
      "execution_count": null,
      "outputs": []
    },
    {
      "cell_type": "code",
      "source": [
        "#10. Write code to demonstrate type casting with list elements.\n",
        "lst = [1, \"4\", True, 8.6]\n",
        "print(lst)\n",
        "print(\"casting 4 to int\", int(lst[1]))\n",
        "print(\"casting True to int\", int(lst[2]))\n",
        "print(\"casting 8.6 to int\", int(lst[3]))\n"
      ],
      "metadata": {
        "id": "cd_yHJ5X0acC"
      },
      "execution_count": null,
      "outputs": []
    },
    {
      "cell_type": "code",
      "source": [
        "#11. Write a program that checks if a number is positive, negative, or zero.\n",
        "\n",
        "num = input(\"enter a number\")\n",
        "if int(num)>0:\n",
        "  print(\"positive\")\n",
        "elif int(num)<0:\n",
        "  print(\"negative\")\n",
        "else:\n",
        "  print(\"zero\")\n",
        "\n",
        "\n",
        "\n",
        "\n",
        "\n"
      ],
      "metadata": {
        "id": "MGj1dTOddq1U"
      },
      "execution_count": null,
      "outputs": []
    },
    {
      "cell_type": "code",
      "source": [
        "#12. Write a for loop to print numbers from 1 to 10.\n",
        "for i in range(1,11):\n",
        "  print(i, end=\" \")\n"
      ],
      "metadata": {
        "id": "dm7H_S5TlgWF"
      },
      "execution_count": null,
      "outputs": []
    },
    {
      "cell_type": "code",
      "source": [
        "\n",
        " #13. Write a Python program to find the sum of all even numbers between 1 and 50.\n",
        " total_sum = 0\n",
        " for i in range(1,51):\n",
        "   if i % 2 == 0:\n",
        "    total_sum += i\n",
        "\n",
        "print(\"the sum of even numbers between 1 to 50 is:\", total_sum)"
      ],
      "metadata": {
        "id": "dbBEOl6inzaI"
      },
      "execution_count": null,
      "outputs": []
    },
    {
      "cell_type": "code",
      "source": [
        "#14. Write a program to reverse a string using a while loop.\n",
        "str =\"pwskills\"\n",
        "i = len(str)-1\n",
        "rev = \"\"\n",
        "while i>=0:\n",
        "  rev += str[i]\n",
        "  i -= 1\n",
        "print(rev)\n",
        "\n"
      ],
      "metadata": {
        "id": "JmambTrLqgtG"
      },
      "execution_count": null,
      "outputs": []
    },
    {
      "cell_type": "code",
      "source": [
        "#15. Write a Python program to calculate the factorial of a number provided by the user using a while loop.\n",
        "\n",
        "num = int(input(\"enter a number:\"))\n",
        "factorial = 1\n",
        "if num < 0:\n",
        "  print(\"The factorial of negative number does not exist\")\n",
        "elif num == 0:\n",
        "  print(\"Factorial=1\")\n",
        "else:\n",
        "  for i in range(1,num+1):\n",
        "    factorial = factorial*i\n",
        "  print(\"Factorial=\", factorial)"
      ],
      "metadata": {
        "id": "3QH_NipusT1h"
      },
      "execution_count": null,
      "outputs": []
    }
  ]
}